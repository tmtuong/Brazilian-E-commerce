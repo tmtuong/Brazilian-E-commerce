{
 "cells": [
  {
   "cell_type": "code",
   "execution_count": 31,
   "metadata": {},
   "outputs": [
    {
     "name": "stdout",
     "output_type": "stream",
     "text": [
      "Dataset URL: https://www.kaggle.com/datasets/olistbr/brazilian-ecommerce\n",
      "Data imported successfully!\n"
     ]
    }
   ],
   "source": [
    "import os\n",
    "import pandas as pd\n",
    "from sqlalchemy import create_engine, event\n",
    "from sqlalchemy.engine import URL\n",
    "import kaggle\n",
    "import pyodbc\n",
    "\n",
    "# Set up Kaggle API credentials\n",
    "os.environ['KAGGLE_USERNAME'] = 'tmtuong02'\n",
    "os.environ['KAGGLE_KEY'] = '3265e2b9ba6703c0f0e6fcd66d3e416f'\n",
    "\n",
    "# Download the dataset from Kaggle\n",
    "kaggle.api.dataset_download_files('olistbr/brazilian-ecommerce', path='Downloads/brazilian-ecommerce.zip', unzip=True)\n",
    "\n",
    "# SQL Server connection setup using Windows Authentication\n",
    "database_config = {\n",
    "    'driver': 'ODBC Driver 17 for SQL Server',  # or any other version of the ODBC Driver for SQL Server\n",
    "    'server': 'TUONG',  # e.g., 'localhost' or 'server_name\\instance_name'\n",
    "    'database': 'olist_ecommerce_db',\n",
    "    'trusted_connection': 'yes'\n",
    "}\n",
    "\n",
    "# Create a direct connection using pyodbc to execute the CREATE DATABASE statement\n",
    "connection_string = f\"DRIVER={database_config['driver']};SERVER={database_config['server']};DATABASE={database_config['database']};Trusted_Connection={database_config['trusted_connection']}\"\n",
    "connection = pyodbc.connect(connection_string)\n",
    "cursor = connection.cursor()\n",
    "new_database_name = 'olist_ecommerce_db'\n",
    "\n",
    "# # Create the new database\n",
    "# cursor.execute(f\"CREATE DATABASE {new_database_name}\")\n",
    "# connection.commit()\n",
    "# cursor.close()\n",
    "# connection.close()\n",
    "\n",
    "# Update connection URL to connect to the new database\n",
    "database_config['database'] = new_database_name\n",
    "connection_url = URL.create(\n",
    "    \"mssql+pyodbc\",\n",
    "    host=database_config['server'],\n",
    "    database=database_config['database'],\n",
    "    query={\n",
    "        \"driver\": database_config['driver'],\n",
    "        \"trusted_connection\": database_config['trusted_connection']\n",
    "    }\n",
    ")\n",
    "\n",
    "# Create a new database connection to the new database\n",
    "engine = create_engine(connection_url)\n",
    "\n",
    "# List of CSV files to import\n",
    "csv_files = [\n",
    "    'olist_customers_dataset.csv',\n",
    "    'olist_orders_dataset.csv',\n",
    "    'olist_order_items_dataset.csv',\n",
    "    'olist_order_payments_dataset.csv',\n",
    "    'olist_order_reviews_dataset.csv',\n",
    "    'olist_products_dataset.csv',\n",
    "    'olist_sellers_dataset.csv',\n",
    "    'product_category_name_translation.csv'\n",
    "]\n",
    "\n",
    "# Import each CSV file into the new database\n",
    "for file in csv_files:\n",
    "    df = pd.read_csv(file)\n",
    "    table_name = file.replace('.csv', '')\n",
    "    df.to_sql(table_name, engine, index=False, if_exists='replace')\n",
    "\n",
    "print(\"Data imported successfully!\")"
   ]
  }
 ],
 "metadata": {
  "kernelspec": {
   "display_name": "Python 3",
   "language": "python",
   "name": "python3"
  },
  "language_info": {
   "codemirror_mode": {
    "name": "ipython",
    "version": 3
   },
   "file_extension": ".py",
   "mimetype": "text/x-python",
   "name": "python",
   "nbconvert_exporter": "python",
   "pygments_lexer": "ipython3",
   "version": "3.9.12"
  }
 },
 "nbformat": 4,
 "nbformat_minor": 2
}
